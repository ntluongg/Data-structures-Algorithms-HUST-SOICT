{
 "cells": [
  {
   "cell_type": "code",
   "execution_count": 1,
   "metadata": {},
   "outputs": [
    {
     "name": "stdout",
     "output_type": "stream",
     "text": [
      "found occurence at position 27\n",
      "found occurence at position 70\n",
      "found occurence at position 88\n",
      "found occurence at position 122\n",
      "4\n"
     ]
    }
   ],
   "source": [
    "def input(filename):\n",
    "    with open(filename, 'r') as f:\n",
    "        P = f.readline()\n",
    "        T = f.readline()\n",
    "        P = P.strip()\n",
    "        T = T.strip()\n",
    "        return P,T\n",
    "\n",
    "def RabinKarp(P, T):\n",
    "    cnt = 0\n",
    "    N = len(T)\n",
    "    M = len(P)\n",
    "    e = Exp(d, M-1)\n",
    "    codeP = h(P)\n",
    "    codeT = h1(T, 0, M-1)\n",
    "    for s in range(N-M+1):\n",
    "        if codeP == codeT:\n",
    "            ok = True\n",
    "            for j in range(M):\n",
    "                if P[j] != T[j+s]:\n",
    "                    ok = False\n",
    "                    break\n",
    "            if ok:\n",
    "                cnt +=1 \n",
    "                print('found occurence at position',s)\n",
    "        if s < N-M:\n",
    "            codeT = (codeT - ord(T[s])*e)*d + ord(T[s+M])\n",
    "            codeT = int(codeT%Q)\n",
    "    return cnt\n",
    "\n",
    "def h(P):\n",
    "# return the hashCode of the key k \n",
    "    code = 0\n",
    "    for i in range(len(P)):\n",
    "        code = code*d + ord(P[i])\n",
    "        code = code % Q\n",
    "    return code\n",
    "\n",
    "def h1(s, start, end):\n",
    "    code = 0\n",
    "    for i in range(start, end+1):\n",
    "        code = code*d + ord(s[i])\n",
    "        code = code % Q\n",
    "    return code\n",
    "\n",
    "def Exp(x,n): #compute x^n mod Q\n",
    "    if n == 0:\n",
    "        return 1\n",
    "    if n == 1:\n",
    "        return x % Q\n",
    "    r = Exp(x, n//2)\n",
    "    r = (r*r)%Q\n",
    "    if n%2 == 1:\n",
    "        return (r*x)%Q\n",
    "    return r\n",
    "\n",
    "P, T = input('string-matching.txt')\n",
    "d = 256\n",
    "Q = 1e9\n",
    "print(RabinKarp(P,T))"
   ]
  }
 ],
 "metadata": {
  "kernelspec": {
   "display_name": "Python 3",
   "language": "python",
   "name": "python3"
  },
  "language_info": {
   "codemirror_mode": {
    "name": "ipython",
    "version": 3
   },
   "file_extension": ".py",
   "mimetype": "text/x-python",
   "name": "python",
   "nbconvert_exporter": "python",
   "pygments_lexer": "ipython3",
   "version": "3.9.10"
  },
  "orig_nbformat": 4,
  "vscode": {
   "interpreter": {
    "hash": "397704579725e15f5c7cb49fe5f0341eb7531c82d19f2c29d197e8b64ab5776b"
   }
  }
 },
 "nbformat": 4,
 "nbformat_minor": 2
}
